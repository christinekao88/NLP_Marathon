{
 "cells": [
  {
   "source": [
    "### 重要知識點\n",
    "* 了解何謂語言模型\n",
    "* 了解 N-Gram 語言模型的原理以及應用"
   ],
   "cell_type": "markdown",
   "metadata": {}
  },
  {
   "source": [
    "### 什麼是語言模型？\n",
    "當我們想到可口可樂的時候，可能會”聯想”到百事可樂(而不是珍珠奶茶)，人們長期在學習累積語言後有判斷合不合理與聯想的能力。Ｎ-gram 就是基於這樣聯想的語言模型。"
   ],
   "cell_type": "markdown",
   "metadata": {}
  },
  {
   "cell_type": "markdown",
   "metadata": {},
   "source": [
    "### 作業目標: 了解N-Gram如何藉由文本計算機率"
   ]
  },
  {
   "cell_type": "markdown",
   "metadata": {},
   "source": [
    "### 為何需要使用馬可夫假設來簡化語言模型的計算?\n",
    "\n",
    "原本的語言模型利用貝氏定理計算機率時為:\n",
    "$$\n",
    "\\begin{aligned}\n",
    "&W = (W_1W_2W_3W_4…W_m) \\\\\n",
    "&P(W_1,W_2,W_3,W_4,…,W_m) = P(W_1)*P(W_2|W_1)*P(W_3|W_1,W_2)*…*P(W_m|W_1,…,W_{m-1})\n",
    "\\end{aligned}\n",
    "$$\n",
    "\n",
    "為何需要引入馬可夫假設使機率簡化為:\n",
    "$$\n",
    "P(W_m|W_1,W_2,W_3,…,W_{m-1}) = P(W_m|W_{m-n+1},W_{m-n+2},…,W_{m-1})\n",
    "$$"
   ]
  },
  {
   "cell_type": "code",
   "execution_count": null,
   "metadata": {},
   "outputs": [],
   "source": [
    "'''\n",
    "###<your answer>###\n",
    "當N值較大：對字詞的約束性更高，具有更高的辨識力，複雜度較高\n",
    "(前面的句子越長，會包含更多不需要的資訊，反而會降低可能答案的命中率)\n",
    "\n",
    "當Ｎ值較小：字詞在文本出現的次數較多，更可靠的統計結果，但對字詞的約束性較小\n",
    "(因此只考慮緊鄰縮短的字詞會包含更多重要的資訊)\n",
    "'''"
   ]
  },
  {
   "cell_type": "markdown",
   "metadata": {},
   "source": [
    "### 以Bigram模型下判斷語句是否合理\n",
    "\n",
    "#### 已知的機率值有\n",
    "1. p(i|_start_) = 0.25\n",
    "2. p(english|want) = 0.0011\n",
    "3. p(food|english) = 0.5\n",
    "4. p(_end_|food) = 0.68\n",
    "5. P(want|_start_) = 0.25\n",
    "6. P(english|i) = 0.0011"
   ]
  },
  {
   "cell_type": "code",
   "execution_count": 7,
   "metadata": {
    "scrolled": true
   },
   "outputs": [
    {
     "output_type": "execute_result",
     "data": {
      "text/plain": [
       "      i  want    to  eat  chinese  food  lunch  spend\n",
       "0  2533   927  2417  746      158  1093    341    278"
      ],
      "text/html": "<div>\n<style scoped>\n    .dataframe tbody tr th:only-of-type {\n        vertical-align: middle;\n    }\n\n    .dataframe tbody tr th {\n        vertical-align: top;\n    }\n\n    .dataframe thead th {\n        text-align: right;\n    }\n</style>\n<table border=\"1\" class=\"dataframe\">\n  <thead>\n    <tr style=\"text-align: right;\">\n      <th></th>\n      <th>i</th>\n      <th>want</th>\n      <th>to</th>\n      <th>eat</th>\n      <th>chinese</th>\n      <th>food</th>\n      <th>lunch</th>\n      <th>spend</th>\n    </tr>\n  </thead>\n  <tbody>\n    <tr>\n      <th>0</th>\n      <td>2533</td>\n      <td>927</td>\n      <td>2417</td>\n      <td>746</td>\n      <td>158</td>\n      <td>1093</td>\n      <td>341</td>\n      <td>278</td>\n    </tr>\n  </tbody>\n</table>\n</div>"
     },
     "metadata": {},
     "execution_count": 7
    }
   ],
   "source": [
    "import numpy as np\n",
    "import pandas as pd\n",
    "words = ['i', 'want', 'to', 'eat', 'chinese', 'food', 'lunch', 'spend']\n",
    "word_cnts = np.array([2533, 927, 2417, 746, 158, 1093, 341, 278]).reshape(1, -1)\n",
    "df_word_cnts = pd.DataFrame(word_cnts, columns=words)\n",
    "df_word_cnts"
   ]
  },
  {
   "cell_type": "code",
   "execution_count": 4,
   "metadata": {},
   "outputs": [
    {
     "output_type": "execute_result",
     "data": {
      "text/plain": [
       "          i  want   to  eat  chinese  food  lunch  spend\n",
       "i         5   827    0    9        0     0      0      2\n",
       "want      2     0  608    1        6     6      5      1\n",
       "to        2     0    4  686        2     0      6    211\n",
       "eat       0     0    2    0       16     2     42      0\n",
       "chinese   1     0    0    0        0    82      1      0\n",
       "food     15     0   15    0        1     4      0      0\n",
       "lunch     2     0    0    0        0     1      0      0\n",
       "spend     1     0    1    0        0     0      0      0"
      ],
      "text/html": "<div>\n<style scoped>\n    .dataframe tbody tr th:only-of-type {\n        vertical-align: middle;\n    }\n\n    .dataframe tbody tr th {\n        vertical-align: top;\n    }\n\n    .dataframe thead th {\n        text-align: right;\n    }\n</style>\n<table border=\"1\" class=\"dataframe\">\n  <thead>\n    <tr style=\"text-align: right;\">\n      <th></th>\n      <th>i</th>\n      <th>want</th>\n      <th>to</th>\n      <th>eat</th>\n      <th>chinese</th>\n      <th>food</th>\n      <th>lunch</th>\n      <th>spend</th>\n    </tr>\n  </thead>\n  <tbody>\n    <tr>\n      <th>i</th>\n      <td>5</td>\n      <td>827</td>\n      <td>0</td>\n      <td>9</td>\n      <td>0</td>\n      <td>0</td>\n      <td>0</td>\n      <td>2</td>\n    </tr>\n    <tr>\n      <th>want</th>\n      <td>2</td>\n      <td>0</td>\n      <td>608</td>\n      <td>1</td>\n      <td>6</td>\n      <td>6</td>\n      <td>5</td>\n      <td>1</td>\n    </tr>\n    <tr>\n      <th>to</th>\n      <td>2</td>\n      <td>0</td>\n      <td>4</td>\n      <td>686</td>\n      <td>2</td>\n      <td>0</td>\n      <td>6</td>\n      <td>211</td>\n    </tr>\n    <tr>\n      <th>eat</th>\n      <td>0</td>\n      <td>0</td>\n      <td>2</td>\n      <td>0</td>\n      <td>16</td>\n      <td>2</td>\n      <td>42</td>\n      <td>0</td>\n    </tr>\n    <tr>\n      <th>chinese</th>\n      <td>1</td>\n      <td>0</td>\n      <td>0</td>\n      <td>0</td>\n      <td>0</td>\n      <td>82</td>\n      <td>1</td>\n      <td>0</td>\n    </tr>\n    <tr>\n      <th>food</th>\n      <td>15</td>\n      <td>0</td>\n      <td>15</td>\n      <td>0</td>\n      <td>1</td>\n      <td>4</td>\n      <td>0</td>\n      <td>0</td>\n    </tr>\n    <tr>\n      <th>lunch</th>\n      <td>2</td>\n      <td>0</td>\n      <td>0</td>\n      <td>0</td>\n      <td>0</td>\n      <td>1</td>\n      <td>0</td>\n      <td>0</td>\n    </tr>\n    <tr>\n      <th>spend</th>\n      <td>1</td>\n      <td>0</td>\n      <td>1</td>\n      <td>0</td>\n      <td>0</td>\n      <td>0</td>\n      <td>0</td>\n      <td>0</td>\n    </tr>\n  </tbody>\n</table>\n</div>"
     },
     "metadata": {},
     "execution_count": 4
    }
   ],
   "source": [
    "# 記錄當前字與前一個字詞的存在頻率\n",
    "\n",
    "bigram_word_cnts = [[5, 827, 0, 9, 0, 0, 0, 2], [2, 0, 608, 1, 6, 6, 5, 1], [2, 0, 4, 686, 2, 0, 6, 211],\n",
    "                    [0, 0, 2, 0, 16, 2, 42, 0], [1, 0, 0, 0, 0, 82, 1, 0], [15, 0, 15, 0, 1, 4, 0, 0],\n",
    "                    [2, 0, 0, 0, 0, 1, 0, 0], [1, 0, 1, 0, 0, 0, 0, 0]]\n",
    "\n",
    "df_bigram_word_cnts = pd.DataFrame(bigram_word_cnts, columns=words, index=words)\n",
    "df_bigram_word_cnts"
   ]
  },
  {
   "cell_type": "markdown",
   "metadata": {},
   "source": [
    "由上表可知當前一個字詞(列)是want的時候, 當前字詞(行)是to的頻率在文本中共有608次"
   ]
  },
  {
   "source": [
    "* print(df_bigram_prob.loc[word, :]) # 選取每一列word的資料\n",
    "* print(df_word_cnts.loc[0, word]) # 總字頻\n",
    "* P(i want to) = P(i)*P(want|i)*P(to|want)\n",
    "\n",
    "       i        want        to      eat      chinese   food   lunch   spend \n",
    "i   0.001974   0.32649     0.0    0.003553      0.0     0.0    0.0    -----> 每一個都除以2533(i出現的總次數＝前一個字是i的機率)"
   ],
   "cell_type": "markdown",
   "metadata": {}
  },
  {
   "cell_type": "code",
   "execution_count": 15,
   "metadata": {},
   "outputs": [
    {
     "output_type": "execute_result",
     "data": {
      "text/plain": [
       "                i     want        to       eat   chinese      food     lunch  \\\n",
       "i        0.001974  0.32649  0.000000  0.003553  0.000000  0.000000  0.000000   \n",
       "want     0.002157  0.00000  0.655879  0.001079  0.006472  0.006472  0.005394   \n",
       "to       0.000827  0.00000  0.001655  0.283823  0.000827  0.000000  0.002482   \n",
       "eat      0.000000  0.00000  0.002681  0.000000  0.021448  0.002681  0.056300   \n",
       "chinese  0.006329  0.00000  0.000000  0.000000  0.000000  0.518987  0.006329   \n",
       "food     0.013724  0.00000  0.013724  0.000000  0.000915  0.003660  0.000000   \n",
       "lunch    0.005865  0.00000  0.000000  0.000000  0.000000  0.002933  0.000000   \n",
       "spend    0.003597  0.00000  0.003597  0.000000  0.000000  0.000000  0.000000   \n",
       "\n",
       "            spend  \n",
       "i        0.000790  \n",
       "want     0.001079  \n",
       "to       0.087298  \n",
       "eat      0.000000  \n",
       "chinese  0.000000  \n",
       "food     0.000000  \n",
       "lunch    0.000000  \n",
       "spend    0.000000  "
      ],
      "text/html": "<div>\n<style scoped>\n    .dataframe tbody tr th:only-of-type {\n        vertical-align: middle;\n    }\n\n    .dataframe tbody tr th {\n        vertical-align: top;\n    }\n\n    .dataframe thead th {\n        text-align: right;\n    }\n</style>\n<table border=\"1\" class=\"dataframe\">\n  <thead>\n    <tr style=\"text-align: right;\">\n      <th></th>\n      <th>i</th>\n      <th>want</th>\n      <th>to</th>\n      <th>eat</th>\n      <th>chinese</th>\n      <th>food</th>\n      <th>lunch</th>\n      <th>spend</th>\n    </tr>\n  </thead>\n  <tbody>\n    <tr>\n      <th>i</th>\n      <td>0.001974</td>\n      <td>0.32649</td>\n      <td>0.000000</td>\n      <td>0.003553</td>\n      <td>0.000000</td>\n      <td>0.000000</td>\n      <td>0.000000</td>\n      <td>0.000790</td>\n    </tr>\n    <tr>\n      <th>want</th>\n      <td>0.002157</td>\n      <td>0.00000</td>\n      <td>0.655879</td>\n      <td>0.001079</td>\n      <td>0.006472</td>\n      <td>0.006472</td>\n      <td>0.005394</td>\n      <td>0.001079</td>\n    </tr>\n    <tr>\n      <th>to</th>\n      <td>0.000827</td>\n      <td>0.00000</td>\n      <td>0.001655</td>\n      <td>0.283823</td>\n      <td>0.000827</td>\n      <td>0.000000</td>\n      <td>0.002482</td>\n      <td>0.087298</td>\n    </tr>\n    <tr>\n      <th>eat</th>\n      <td>0.000000</td>\n      <td>0.00000</td>\n      <td>0.002681</td>\n      <td>0.000000</td>\n      <td>0.021448</td>\n      <td>0.002681</td>\n      <td>0.056300</td>\n      <td>0.000000</td>\n    </tr>\n    <tr>\n      <th>chinese</th>\n      <td>0.006329</td>\n      <td>0.00000</td>\n      <td>0.000000</td>\n      <td>0.000000</td>\n      <td>0.000000</td>\n      <td>0.518987</td>\n      <td>0.006329</td>\n      <td>0.000000</td>\n    </tr>\n    <tr>\n      <th>food</th>\n      <td>0.013724</td>\n      <td>0.00000</td>\n      <td>0.013724</td>\n      <td>0.000000</td>\n      <td>0.000915</td>\n      <td>0.003660</td>\n      <td>0.000000</td>\n      <td>0.000000</td>\n    </tr>\n    <tr>\n      <th>lunch</th>\n      <td>0.005865</td>\n      <td>0.00000</td>\n      <td>0.000000</td>\n      <td>0.000000</td>\n      <td>0.000000</td>\n      <td>0.002933</td>\n      <td>0.000000</td>\n      <td>0.000000</td>\n    </tr>\n    <tr>\n      <th>spend</th>\n      <td>0.003597</td>\n      <td>0.00000</td>\n      <td>0.003597</td>\n      <td>0.000000</td>\n      <td>0.000000</td>\n      <td>0.000000</td>\n      <td>0.000000</td>\n      <td>0.000000</td>\n    </tr>\n  </tbody>\n</table>\n</div>"
     },
     "metadata": {},
     "execution_count": 15
    }
   ],
   "source": [
    "#請根據給出的總詞頻(df_word_cnts)與bigram模型的詞頻(df_bigram_word_cnts)計算出所有詞的配對機率(ex:p(want|i))\n",
    "df_bigram_prob = df_bigram_word_cnts.copy()\n",
    "###<your code>###\n",
    "for word in words:\n",
    "    df_bigram_prob.loc[word, :] = df_bigram_prob.loc[word, :] / df_word_cnts.loc[0, word]\n",
    "\n",
    "df_bigram_prob"
   ]
  },
  {
   "cell_type": "markdown",
   "metadata": {},
   "source": [
    "請根據已給的機率與所計算出的機率(df_bigram_prob), 試著判斷下列兩個句子哪個較為合理\n",
    "\n",
    "s1 = “i want english food”\n",
    "\n",
    "s2 = \"want i english food\""
   ]
  },
  {
   "cell_type": "code",
   "execution_count": 19,
   "metadata": {},
   "outputs": [
    {
     "output_type": "stream",
     "name": "stdout",
     "text": [
      "s1的機率為3.0526815e-05\ns2的機率為2.0167950000000003e-07\n所以s1較合理\n"
     ]
    }
   ],
   "source": [
    "'''\n",
    "###<your answer>###\n",
    "s1 = 0.25*0.32649*0.0011*0.5*0.68\n",
    "s2 = 0.25*0.002157*0.0011*0.5*0.68\n",
    "'''\n",
    "\n",
    "s1 = 0.25*0.32649*0.0011*0.5*0.68\n",
    "print(f's1的機率為{s1}')\n",
    "s2 = 0.25*0.002157*0.0011*0.5*0.68\n",
    "print(f's2的機率為{s2}')\n",
    "\n",
    "if s1>s2 :\n",
    "    print(\"所以s1較合理\")\n",
    "else:\n",
    "    print(\"所以s2較合理\")"
   ]
  },
  {
   "cell_type": "code",
   "execution_count": null,
   "metadata": {},
   "outputs": [],
   "source": [
    "### 以Bigram模型下判斷語句是否合理\n",
    "\n",
    "#### 已知的機率值有\n",
    "1. p(i|_start_) = 0.25\n",
    "2. p(english|want) = 0.0011\n",
    "3. p(food|english) = 0.5\n",
    "4. p(_end_|food) = 0.68\n",
    "5. P(want|_start_) = 0.25\n",
    "6. P(english|i) = 0.0011"
   ]
  }
 ],
 "metadata": {
  "kernelspec": {
   "name": "python3",
   "display_name": "Python 3.8.3 64-bit ('base': conda)",
   "metadata": {
    "interpreter": {
     "hash": "569d6b7e9215e11aba41c6454007e5c1b78bad7df09dab765d8cf00362c40f03"
    }
   }
  },
  "language_info": {
   "codemirror_mode": {
    "name": "ipython",
    "version": 3
   },
   "file_extension": ".py",
   "mimetype": "text/x-python",
   "name": "python",
   "nbconvert_exporter": "python",
   "pygments_lexer": "ipython3",
   "version": "3.8.3-final"
  }
 },
 "nbformat": 4,
 "nbformat_minor": 2
}