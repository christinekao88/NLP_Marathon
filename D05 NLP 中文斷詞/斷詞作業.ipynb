{
 "cells": [
  {
   "cell_type": "markdown",
   "metadata": {},
   "source": [
    "## 作業目標: 了解斷詞演算法的背後計算"
   ]
  },
  {
   "cell_type": "markdown",
   "metadata": {},
   "source": [
    "### 根據課程講述的內容, 請計算出下列剩餘所有情況的\n",
    "若有一個人連續觀察到三天水草都是乾燥的(Dry), 則這三天的天氣機率為何？(可參考講義第13頁)\n",
    "(Hint: 共有8種可能機率)\n",
    "\n",
    "```python\n",
    "states = ('sunny', 'rainy')\n",
    "observations = ('dry', 'damp', 'soggy')\n",
    "start_probability = {'sunny': 0.4, 'rainy': 0.6}\n",
    "transition_probability = {'sunny':{'sunny':0.6, 'rainy':0.4},\n",
    "                          'rainy': {'sunny':0.3, 'rainy':0.7}}\n",
    "emission_probatility = {'sunny': {'dry':0.6, 'damp':0.3, 'soggy':0.1},\n",
    "                        'rainy': {'dry':0.1, 'damp':0.4, 'soggy':0.5}}\n",
    "```"
   ]
  },
  {
   "cell_type": "markdown",
   "metadata": {},
   "source": [
    "```\n",
    "觀察狀態 = 'dry', 'dry', 'dry'\n",
    "1. Sunny, Sunny, Sunny: 0.4*(0.6)* 0.6*(0.6)* 0.6*(0.6) = 0.031104\n",
    "2. Rainy, Sunny, Sunny: 0.6*(0.1)* 0.3*(0.6)* 0.6*(0.6) = 0.003888\n",
    "3. Rainy, Rainy, Sunny: 0.6*(0.1)* 0.7*(0.1)* 0.6*(0.6) = 0.0015119\n",
    "4. Rainy, Rainy, Rainy: 0.6*(0.1)* 0.7*(0.1)* 0.7*(0.1) = 0.000294\n",
    "5. Rainy, Sunny, Rainy: 0.6*(0.1)* 0.6*(0.6)* 0.7*(0.1) = 0.0015119\n",
    "6. Sunny, Rainy, Sunny: 0.4*(0.6)* 0.7*(0.1)* 0.6*(0.6) = 0.0060479\n",
    "7. Sunny, Sunny, Rainy: 0.4*(0.6)* 0.6*(0.6)* 0.7*(0.1) = 0.0060479\n",
    "8. Sunny, Rainy, Rainy: 0.4*(0.6)* 0.7*(0.1)* 0.7*(0.1) = 0.0060479\n",
    "\n",
    "\n",
    "最大機率為: Sunny, Sunny, Sunny\n",
    "```"
   ]
  },
  {
   "cell_type": "markdown",
   "metadata": {},
   "source": [
    "### 根據上述條件, 寫出Viterbi應用程式"
   ]
  },
  {
   "cell_type": "code",
   "execution_count": 35,
   "metadata": {},
   "outputs": [],
   "source": [
    "# 觀察狀態 observations = ('dry', 'damp', 'soggy')  在過程中”可視\"的狀態  \n",
    "observations = ('dry', 'dry', 'dry') #實際上觀察到的狀態為dry, dry, dry\n",
    "\n",
    "# 隱藏狀態 states = ('sunny', 'rainy') 系統的真實狀態(Sunny，Rainy)所有的詞都有可能是這兩狀態的其中一種\n",
    "states = ('sunny', 'rainy')\n",
    "\n",
    "# 初始的狀態機率 start_probability = {'sunny': 0.4, 'rainy': 0.6}   \n",
    "start_probability = {'sunny': 0.4, 'rainy': 0.6}\n",
    "\n",
    "#  狀態轉移矩陣 transition_probability = {'sunny':{'sunny':0.6, 'rainy':0.4},       \n",
    "#                           'rainy': {'sunny':0.3, 'rainy':0.7}}\n",
    "# 隱藏狀態到另外一個隱藏狀態的機率，因為隱藏狀態為兩種，因此此狀態矩陣為 4x4 的二維矩陣\n",
    "transition_probability = {'sunny':{'sunny':0.6, 'rainy':0.4},\n",
    "                          'rainy': {'sunny':0.3, 'rainy':0.7}}\n",
    "                          \n",
    "# 狀態發射矩陣 emission_probatility = {'sunny': {'dry':0.6, 'damp':0.3, 'soggy':0.1},\n",
    "#                         'rainy': {'dry':0.1, 'damp':0.4, 'soggy':0.5}}\n",
    "# 隱藏狀態觀察到某一個觀察狀態的機率，此矩陣表示在某狀態states下是某個特定詞的機率 P(Obersverd, Status) = P(Status) * P(Observed | Status)                         \n",
    "emission_probatility = {'sunny': {'dry':0.6, 'damp':0.3, 'soggy':0.1},\n",
    "                        'rainy': {'dry':0.1, 'damp':0.4, 'soggy':0.5}}"
   ]
  },
  {
   "source": [
    "### Viterbi 實際上是使用動態規劃求解隱馬可夫模型預測，即使用動態規劃求解最大機率路徑。\n",
    "因此可以從 t=1的時刻，開始計算在時刻 t 狀態 i 的所有路徑的最大概率，直到到達終點 t=T 時狀態為 i 的所有路徑的最大機率。"
   ],
   "cell_type": "markdown",
   "metadata": {}
  },
  {
   "cell_type": "code",
   "execution_count": null,
   "metadata": {},
   "outputs": [],
   "source": []
  },
  {
   "cell_type": "code",
   "execution_count": 45,
   "metadata": {},
   "outputs": [],
   "source": [
    "def viterbi(obs, states, start_p, trans_p, emit_p):\n",
    "\n",
    "    # Viterbi紀錄每個states最大機率路徑\n",
    "    V = [{}]\n",
    "    # 紀錄每個states的狀態路徑\n",
    "    path = {}\n",
    "\n",
    "    # Initialize base cases (t == 0)， t = 0, 狀態為某 state 的機率\n",
    "    # 初始狀態，取得第一個觀察值dry\n",
    "    # 第一個states的發生機率為初始機率 * 隱藏狀態的發射機率\n",
    "    for state in states: # state = sunny or rainy \n",
    "        V[0][state] = start_p[state] * emit_p[state][obs[0]]  \n",
    "        #  第一圈：[sunny:0.4]*[sunny情況下dry的機率為0.6] ＝ [{'sunny': 0.24}]\n",
    "        #  第二圈：[rainy:0.6]*[rainy情況下dry的機率為0.1] ＝ [{'rainy': 0.06}]\n",
    "\n",
    "        # print(V)   # [{'sunny': 0.24}]\n",
    "        # print(V[0]) # {'sunny': 0.24}\n",
    "        # print(V[0][state]) # 0.24\n",
    "\n",
    "        path[state] = [state]  \n",
    "        #  第一圈：{'sunny': ['sunny']}\n",
    "        #  第二圈：{'sunny': ['sunny'], 'rainy': ['rainy']}\n",
    "\n",
    "        print(f'若第一天天氣為：{state}, 機率為：{V[0][state]}, 路徑為：{path[state]}')  \n",
    "    print('=======================================================================================')\n",
    "\n",
    "\n",
    "    # Run Viterbi for t > 0 時狀態為某 state 的機率，開始計算剩下的兩次觀察值dry\n",
    "    for t in range(1,len(obs)):\n",
    "        print(f'next obs={t}' )\n",
    "        V.append({})\n",
    "        newpath={}\n",
    "        \n",
    "        for curr_state in states:\n",
    "            prob_list = []\n",
    "            for pre_state in states:\n",
    "                # print(V[t - 1][pre_state]) # 前一個機率 -> 取得機率值0.24\n",
    "                # print(trans_p[pre_state]) # {'sunny': 0.6, 'rainy': 0.4}\n",
    "                # print(trans_p[pre_state][cur_state]) # 狀態轉移矩陣機率->取得機率值0.06\n",
    "                # print(emit_p[cur_state]) #{'dry': 0.6, 'damp': 0.3, 'soggy': 0.1}\n",
    "                # print(emit_p[cur_state][obs[t]]) # 發射矩陣機率->取得機率值0.6\n",
    "                curr_state_prob = V[t-1][pre_state] * trans_p[pre_state][curr_state] * emit_p[curr_state][obs[t]]\n",
    "                prob_list.append((pre_state,curr_state_prob))\n",
    "            V[t][curr_state] = max(prob_list)[1]\n",
    "            newpath[curr_state] = path[max(prob_list)[0]] + [curr_state]\n",
    "            print(f'若今天天氣：{curr_state}，較有可能為：{newpath[curr_state]}，機率為：{V[t][curr_state]}')\n",
    "        print('=======================================================================================')\n",
    "           \n",
    "        # Don't need to remember the old paths\n",
    "        path = newpath\n",
    "    \n",
    "    # 取最後一個較大機率的 V值，即為最大機率路徑的機率\n",
    "    (prob, state) = max([(V[len(obs) - 1][final_state], final_state) for final_state in states])\n",
    "    return (prob, path[state])  "
   ]
  },
  {
   "cell_type": "code",
   "execution_count": 44,
   "metadata": {},
   "outputs": [
    {
     "output_type": "stream",
     "name": "stdout",
     "text": [
      "若第一天天氣為：sunny, 機率為：0.24, 路徑為：['sunny']\n=======================================================================================\n若第一天天氣為：rainy, 機率為：0.06, 路徑為：['rainy']\n=======================================================================================\nnext obs=1\n若今天天氣：sunny，較有可能為：['sunny', 'sunny']，機率為：0.08639999999999999\n若今天天氣：rainy，較有可能為：['sunny', 'rainy']，機率為：0.009600000000000001\n=======================================================================================\nnext obs=2\n若今天天氣：sunny，較有可能為：['sunny', 'sunny', 'sunny']，機率為：0.031103999999999993\n若今天天氣：rainy，較有可能為：['sunny', 'sunny', 'rainy']，機率為：0.0034560000000000003\n=======================================================================================\n"
     ]
    }
   ],
   "source": [
    "result = viterbi(observations,\n",
    "                 states,\n",
    "                 start_probability,\n",
    "                 transition_probability,\n",
    "                 emission_probatility)"
   ]
  },
  {
   "cell_type": "code",
   "execution_count": 38,
   "metadata": {},
   "outputs": [
    {
     "output_type": "execute_result",
     "data": {
      "text/plain": [
       "(0.031103999999999993, ['sunny', 'sunny', 'sunny'])"
      ]
     },
     "metadata": {},
     "execution_count": 38
    }
   ],
   "source": [
    "result"
   ]
  }
 ],
 "metadata": {
  "kernelspec": {
   "name": "python3",
   "display_name": "Python 3.8.3 64-bit ('base': conda)",
   "metadata": {
    "interpreter": {
     "hash": "569d6b7e9215e11aba41c6454007e5c1b78bad7df09dab765d8cf00362c40f03"
    }
   }
  },
  "language_info": {
   "codemirror_mode": {
    "name": "ipython",
    "version": 3
   },
   "file_extension": ".py",
   "mimetype": "text/x-python",
   "name": "python",
   "nbconvert_exporter": "python",
   "pygments_lexer": "ipython3",
   "version": "3.8.3-final"
  }
 },
 "nbformat": 4,
 "nbformat_minor": 2
}